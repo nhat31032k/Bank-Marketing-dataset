{
  "nbformat": 4,
  "nbformat_minor": 0,
  "metadata": {
    "colab": {
      "name": "KNN-library.ipynb",
      "provenance": [],
      "collapsed_sections": []
    },
    "kernelspec": {
      "name": "python3",
      "display_name": "Python 3"
    },
    "language_info": {
      "name": "python"
    }
  },
  "cells": [
    {
      "cell_type": "code",
      "metadata": {
        "id": "m9wKYMcln5Bw"
      },
      "source": [
        "from sklearn.neighbors import KNeighborsClassifier\n",
        "import pandas as pd\n",
        "from numpy import *\n",
        "import numpy as np\n",
        "from imblearn.over_sampling import SMOTE\n",
        "from sklearn.model_selection import train_test_split\n",
        "from sklearn.metrics import accuracy_score\n",
        "\n",
        "\n",
        "def readDataset():\n",
        "\t# Đọc dataset\n",
        "\tdata = pd.read_csv(\"bank-full.csv\")\n",
        "\tdata = data.dropna()\n",
        "\n",
        "\t# Row: 41188 record - col: 21 fields\n",
        "\t# print(data.shape)\n",
        "\n",
        "\t# Tiêu đề\n",
        "\t# print(list(data.columns))\n",
        "\n",
        "\t# In 5 dòng đầu\n",
        "\t# print(data.head())\n",
        "\n",
        "\t# Dữ liệu cột education\n",
        "\t# print(data['education'].unique())\n",
        "\n",
        "\t# Nhóm dữ liệu basic.4y - basic.6y - basic.9y thành basic\n",
        "\n",
        "\tdata['education'] = where(data['education'] == 'basic.4y','basic',data['education'])\n",
        "\tdata['education'] = where(data['education'] == 'basic.6y','basic',data['education'])\n",
        "\tdata['education'] = where(data['education'] == 'basic.9y','basic',data['education'])\n",
        "\n",
        "\t# Kiểm tra:\n",
        "\t# print(data['education'].unique())\n",
        "\treturn data\n",
        "\n",
        "# Tỉ lệ phần trăm của khách hàng đăng ký và không đăng ký\n",
        "def subscriptionPercent(data):\n",
        "\t# Tỉ lệ phần trăm những khách hàng đăng ký\n",
        "\tcount = len(data['y'])\n",
        "\tcount_sub = len(data[data['y']==0])\n",
        "\tcount_no_sub = len(data[data['y']==1])\n",
        "\n",
        "\tsub_percent = count_sub/count\n",
        "\tno_sub_percent = count_no_sub/count\n",
        "\n",
        "\tprint('tỉ lệ phần trăm khách hàng không đăng ký:',round(sub_percent * 100,2),'%')\n",
        "\tprint('tỉ lệ phần trăm khách hàng đăng ký:',round(no_sub_percent * 100,2),'%')\n",
        "\n",
        "\t# Trung bình theo biến phân loại y:\n",
        "\t# print(data.groupby('y').mean())\n",
        "\n",
        "def numberVariable(data):\n",
        "\t# Chuyển đổi biến chuỗi thành các cột chứa dữ liệu dạng binary (có hoặc không)\n",
        "\t# vd: marital : married -> marital_married : 1 nếu khách hàng đó có kết hôn hay marital_married : 0 nếu khách hàng ko có kết hôn\n",
        "\tvars = ['job','sex','marital','education','default','housing','loan','contact','month','day_of_week','poutcome']\n",
        "\tfor var in vars:\n",
        "\t    cat_list = 'var' + '_' + var\n",
        "\t    cat_list = pd.get_dummies(data[var], prefix = var)\n",
        "\t    data1 = data.join(cat_list)\n",
        "\t    data = data1\n",
        "\tvars = ['job','sex','marital','education','default','housing','loan','contact','month','day_of_week','poutcome']\n",
        "\tdata_vars = data.columns.values.tolist()\n",
        "\tto_keep = [i for i in data_vars if i not in vars]\n",
        "\tdata_final = data[to_keep]\n",
        "\t# Test title dataset\n",
        "\t# print(data_final.columns.values)\n",
        "\t# print(data_final.head(5))\n",
        "\treturn data_final\n",
        "\n",
        "\n",
        "\n"
      ],
      "execution_count": null,
      "outputs": []
    },
    {
      "cell_type": "code",
      "metadata": {
        "id": "x590wv3KosuF"
      },
      "source": [
        "# xử lý dữ liệu: do dataset majority chiếm phần lớn nên ta phải cân bằng minority có lượng dữ liệu như nhau.\n",
        "# Sau đó train mô hình ở tập dữ liệu mới này.\n",
        "def createSmote(data_final):\n",
        "\t# Oversampling: \n",
        "\t# Tạo dữ liệu giả cho tập minority sao cho số phần tử của nó được nhiều lên.\n",
        "\t# Cách đơn giản nhất là lặp lại mỗi điểm trong minority nhiều lần.\n",
        "\t# tránh trường hợp khi phân training test chỉ tách ra majority -> gây sai lệch kết quả kiểm tra độ chính xác\n",
        "\t# ================================================================\n",
        "\t# SMOTE:\n",
        "\t# Với mỗi điểm trong tập minority, tìm k điểm cùng trong minority gần nó nhất rồi dùng tổng có trọng số của các điểm này để tạo ra các điểm dữ liệu mới. \n",
        "\t\n",
        "\t# Test new dataset\n",
        "\t# print(data_final)\n",
        "\t# Lấy tất cả biến bỏ biến phân loại y\n",
        "\tX = data_final.loc[:, data_final.columns != 'y']\n",
        "\t# Lấy biến phân loại y\n",
        "\ty = data_final.loc[:, data_final.columns == 'y']\n",
        "\tos = SMOTE(random_state=0)\n",
        "\t# Phân data thành 2 phần: training data và testing data -> 30% Test - 80% train\n",
        "\tX_train, X_test, y_train, y_test = train_test_split(X, y, test_size=0.3, random_state=0)\n",
        "\n",
        "\t# test length Training data, Testing data\n",
        "\tprint('Số lượng tập train:',len(X_train))\n",
        "\tprint('Số lượng tập test:',len(X_test))\n",
        "\t# title dataset\n",
        "\tfeature_rol = X_train.columns\n",
        "\n",
        "\t# dữ liệu được tạo ra hơn 10000 điểm dữ liệu mới\n",
        "\tos_data_X,os_data_y = os.fit_resample(X_train, y_train)\n",
        "\n",
        "\tos_data_X = pd.DataFrame(data = os_data_X,columns = feature_rol)\n",
        "\n",
        "\tos_data_y = pd.DataFrame(data = os_data_y,columns = ['y'])\n",
        "\t# Kiểm tra dữ liệu\n",
        "\tprint('length Oversampling:',len(os_data_X))\n",
        "\tprint('Số lượng khách hàng không đăng ký trong tập Oversampling:',len(os_data_y[os_data_y['y']==0]))\n",
        "\tprint('Số lượng khách hàng đăng ký trong tập Oversampling:',len(os_data_y[os_data_y['y']==1]))\n",
        "\tprint('Tỉ lệ khách hàng không đăng ký trong tập Oversampling:',len(os_data_y[os_data_y['y']==0])/len(os_data_X))\n",
        "\tprint('Tỉ lệ khách hàng đăng ký trong tập Oversampling:',len(os_data_y[os_data_y['y']==1])/len(os_data_X))\n",
        "\t# Dữ liệu sau khi Oversampling dựa trên dữ liệu tập train data, do đó không có thông tin nào dựa vào tập test data\n",
        "\t# Kết quả dự đoán sẽ được chính xác\n",
        "\treturn os_data_X,os_data_y,X_test,y_test"
      ],
      "execution_count": null,
      "outputs": []
    },
    {
      "cell_type": "code",
      "metadata": {
        "colab": {
          "base_uri": "https://localhost:8080/"
        },
        "id": "A4Z33JzZoj1D",
        "outputId": "d255a6ed-d6e5-4bbf-c430-4218b8b5e840"
      },
      "source": [
        "print('=======================================================')\n",
        "print('------------Percentage------------')\n",
        "data = readDataset()\n",
        "subscriptionPercent(data)\n",
        "print('=======================================================')\n",
        "print('------------Oversampling - SMOTE------------')\n",
        "# KNN\n",
        "data_final = numberVariable(data)\n",
        "X_train,y_train,X_test,y_test = createSmote(data_final)\n",
        "\n",
        "print('=======================================================')\n",
        "print('------------K-Nearest Neighbors------------')\n",
        "model = KNeighborsClassifier(n_neighbors=4, p = 2)\n",
        "model.fit(X_train, y_train.values.ravel())\n",
        "print('Độ chính xác: ',round(accuracy_score(y_test, model.predict(X_test)),2)*100,'%')"
      ],
      "execution_count": null,
      "outputs": [
        {
          "output_type": "stream",
          "name": "stdout",
          "text": [
            "=======================================================\n",
            "------------Percentage------------\n",
            "tỉ lệ phần trăm khách hàng không đăng ký: 88.73 %\n",
            "tỉ lệ phần trăm khách hàng đăng ký: 11.27 %\n",
            "=======================================================\n",
            "------------Oversampling - SMOTE------------\n",
            "Số lượng tập train: 28831\n",
            "Số lượng tập test: 12357\n",
            "length Oversampling: 51134\n",
            "Số lượng khách hàng không đăng ký trong tập Oversampling: 25567\n",
            "Số lượng khách hàng đăng ký trong tập Oversampling: 25567\n",
            "Tỉ lệ khách hàng không đăng ký trong tập Oversampling: 0.5\n",
            "Tỉ lệ khách hàng đăng ký trong tập Oversampling: 0.5\n",
            "=======================================================\n",
            "------------K-Nearest Neighbors------------\n",
            "Độ chính xác:  87.0 %\n"
          ]
        }
      ]
    },
    {
      "cell_type": "code",
      "metadata": {
        "colab": {
          "base_uri": "https://localhost:8080/"
        },
        "id": "l5hSWiHvXDko",
        "outputId": "ea722bbd-a932-4552-e55b-c114cbe48ecd"
      },
      "source": [
        "print('=======================================================')\n",
        "print('------------Percentage------------')\n",
        "data = readDataset()\n",
        "subscriptionPercent(data)\n",
        "# KNN\n",
        "data_final = numberVariable(data)\n",
        "# Lấy tất cả biến bỏ biến phân loại y\n",
        "X = data_final.loc[:, data_final.columns != 'y']\n",
        "# Lấy biến phân loại y\n",
        "y = data_final.loc[:, data_final.columns == 'y']\n",
        "X_train, X_test, y_train, y_test = train_test_split(X, y, test_size=0.3, random_state=0)\n",
        "# test length Training data, Testing data\n",
        "print('Số lượng tập train:',len(X_train))\n",
        "print('Số lượng tập test:',len(X_test))\n",
        "\n",
        "print('=======================================================')\n",
        "print('------------K-Nearest Neighbors------------')\n",
        "model = KNeighborsClassifier(n_neighbors=4, p = 2)\n",
        "model.fit(X_train, y_train.values.ravel())\n",
        "print('Độ chính xác: ',round(accuracy_score(y_test, model.predict(X_test)),2)*100,'%')"
      ],
      "execution_count": null,
      "outputs": [
        {
          "output_type": "stream",
          "name": "stdout",
          "text": [
            "=======================================================\n",
            "------------Percentage------------\n",
            "tỉ lệ phần trăm khách hàng không đăng ký: 88.73 %\n",
            "tỉ lệ phần trăm khách hàng đăng ký: 11.27 %\n",
            "=======================================================\n",
            "------------NO oversampling------------\n",
            "Số lượng tập train: 28831\n",
            "Số lượng tập test: 12357\n",
            "=======================================================\n",
            "------------K-Nearest Neighbors------------\n",
            "Độ chính xác:  90.0 %\n"
          ]
        }
      ]
    }
  ]
}