{
  "nbformat": 4,
  "nbformat_minor": 0,
  "metadata": {
    "colab": {
      "name": "SVM.ipynb",
      "provenance": [],
      "collapsed_sections": []
    },
    "kernelspec": {
      "name": "python3",
      "display_name": "Python 3"
    },
    "language_info": {
      "name": "python"
    }
  },
  "cells": [
    {
      "cell_type": "code",
      "metadata": {
        "id": "Auk7ZINEXibQ"
      },
      "source": [
        "import pandas as pd\n",
        "import numpy as np\n",
        "from sklearn import preprocessing\n",
        "import matplotlib.pyplot as plt\n",
        "from sklearn import metrics\n",
        "from sklearn import svm\n",
        "from sklearn.model_selection import train_test_split\n",
        "from sklearn.metrics import accuracy_score\n",
        "from sklearn.metrics import confusion_matrix\n",
        "from sklearn.feature_selection import RFE\n",
        "from imblearn.over_sampling import SMOTE\n",
        "import seaborn as sns\n",
        "import time\n",
        "from mpl_toolkits.mplot3d import Axes3D\n",
        "\n",
        "plt.rc(\"font\", size=14)\n",
        "sns.set(style=\"white\")\n",
        "sns.set(style=\"whitegrid\", color_codes=True)\n",
        "\n",
        "\n",
        "def readDataset():\n",
        "\t# Đọc dataset\n",
        "\tdata = pd.read_csv(\"bank-full.csv\")\n",
        "\tdata = data.dropna()\n",
        "\n",
        "\t# Row: 41188 record - col: 21 fields\n",
        "\t# print(data.shape)\n",
        "\n",
        "\t# Tiêu đề\n",
        "\t# print(list(data.columns))\n",
        "\n",
        "\t# In 5 dòng đầu\n",
        "\t# print(data.head())\n",
        "\n",
        "\t# Dữ liệu cột education\n",
        "\t# print(data['education'].unique())\n",
        "\n",
        "\t# Nhóm dữ liệu basic.4y - basic.6y - basic.9y thành basic\n",
        "\n",
        "\tdata['education'] = np.where(data['education'] == 'basic.4y','basic',data['education'])\n",
        "\tdata['education'] = np.where(data['education'] == 'basic.6y','basic',data['education'])\n",
        "\tdata['education'] = np.where(data['education'] == 'basic.9y','basic',data['education'])\n",
        "\n",
        "\t# Kiểm tra:\n",
        "\t# print(data['education'].unique())\n",
        "\treturn data\n",
        "\n",
        "# Tỉ lệ phần trăm của khách hàng đăng ký và không đăng ký\n",
        "def subscriptionPercent(data):\n",
        "\t# Tỉ lệ phần trăm những khách hàng đăng ký\n",
        "\tcount = len(data['y'])\n",
        "\tcount_sub = len(data[data['y']==0])\n",
        "\tcount_no_sub = len(data[data['y']==1])\n",
        "\n",
        "\tsub_percent = count_sub/count\n",
        "\tno_sub_percent = count_no_sub/count\n",
        "\n",
        "\tprint('tỉ lệ phần trăm khách hàng không đăng ký:',round(sub_percent * 100,2),'%')\n",
        "\tprint('tỉ lệ phần trăm khách hàng đăng ký:',round(no_sub_percent * 100,2),'%')\n",
        "\n",
        "\t# Trung bình theo biến phân loại y:\n",
        "\t# print(data.groupby('y').mean())\n",
        "\n",
        "def numberVariable(data):\n",
        "\t# Chuyển đổi biến chuỗi thành các cột chứa dữ liệu dạng binary (có hoặc không)\n",
        "\t# vd: marital : married -> marital_married : 1 nếu khách hàng đó có kết hôn hay marital_married : 0 nếu khách hàng ko có kết hôn\n",
        "\tvars = ['job','sex','marital','education','default','housing','loan','contact','month','day_of_week','poutcome']\n",
        "\tfor var in vars:\n",
        "\t    cat_list = 'var' + '_' + var\n",
        "\t    cat_list = pd.get_dummies(data[var], prefix = var)\n",
        "\t    data1 = data.join(cat_list)\n",
        "\t    data = data1\n",
        "\tvars = ['job','sex','marital','education','default','housing','loan','contact','month','day_of_week','poutcome']\n",
        "\tdata_vars = data.columns.values.tolist()\n",
        "\tto_keep = [i for i in data_vars if i not in vars]\n",
        "\tdata_final = data[to_keep]\n",
        "\t# Test title dataset\n",
        "\t# print(data_final.columns.values)\n",
        "\t# print(data_final.head(5))\n",
        "\treturn data_final\n"
      ],
      "execution_count": null,
      "outputs": []
    },
    {
      "cell_type": "code",
      "metadata": {
        "id": "7nAy9grSXrMS"
      },
      "source": [
        "# xử lý dữ liệu: do dataset majority chiếm phần lớn nên ta phải cân bằng minority có lượng dữ liệu như nhau.\n",
        "# Sau đó train mô hình ở tập dữ liệu mới này.\n",
        "def createSmote(data_final):\n",
        "\t# Oversampling: \n",
        "\t# Tạo dữ liệu giả cho tập minority sao cho số phần tử của nó được nhiều lên.\n",
        "\t# Cách đơn giản nhất là lặp lại mỗi điểm trong minority nhiều lần.\n",
        "\t# tránh trường hợp khi phân training test chỉ tách ra majority -> gây sai lệch kết quả kiểm tra độ chính xác\n",
        "\t# ================================================================\n",
        "\t# SMOTE:\n",
        "\t# Với mỗi điểm trong tập minority, tìm k điểm cùng trong minority gần nó nhất rồi dùng tổng có trọng số của các điểm này để tạo ra các điểm dữ liệu mới. \n",
        "\t\n",
        "\t# Test new dataset\n",
        "\t# print(data_final)\n",
        "\t# Lấy tất cả biến bỏ biến phân loại y\n",
        "\tX = data_final.loc[:, data_final.columns != 'y']\n",
        "\t# Lấy biến phân loại y\n",
        "\ty = data_final.loc[:, data_final.columns == 'y']\n",
        "\tos = SMOTE(random_state=0)\n",
        "\t# Phân data thành 2 phần: training data và testing data -> 30% Test - 70% train\n",
        "\tX_train, X_test, y_train, y_test = train_test_split(X, y, test_size=0.3, random_state=0)\n",
        "\n",
        "\t# test length Training data, Testing data\n",
        "\tprint('Số lượng tập train:',len(X_train))\n",
        "\tprint('Số lượng tập test:',len(X_test))\n",
        "\t# title dataset\n",
        "\tfeature_rol = X_train.columns\n",
        "\n",
        "\t# dữ liệu được tạo ra hơn 10000 điểm dữ liệu mới\n",
        "\tos_data_X,os_data_y = os.fit_resample(X_train, y_train)\n",
        "\n",
        "\tos_data_X = pd.DataFrame(data = os_data_X,columns = feature_rol)\n",
        "\n",
        "\tos_data_y = pd.DataFrame(data = os_data_y,columns = ['y'])\n",
        "\t# Kiểm tra dữ liệu\n",
        "\tprint('length Oversampling:',len(os_data_X))\n",
        "\tprint('Số lượng khách hàng không đăng ký trong tập Oversampling:',len(os_data_y[os_data_y['y']==0]))\n",
        "\tprint('Số lượng khách hàng đăng ký trong tập Oversampling:',len(os_data_y[os_data_y['y']==1]))\n",
        "\tprint('Tỉ lệ khách hàng không đăng ký trong tập Oversampling:',len(os_data_y[os_data_y['y']==0])/len(os_data_X))\n",
        "\tprint('Tỉ lệ khách hàng đăng ký trong tập Oversampling:',len(os_data_y[os_data_y['y']==1])/len(os_data_X))\n",
        "\t# Dữ liệu sau khi Oversampling dựa trên dữ liệu tập train data, do đó không có thông tin nào dựa vào tập test data\n",
        "\t# Kết quả dự đoán sẽ được chính xác\n",
        "\treturn os_data_X,os_data_y,X_test,y_test\n",
        "\n",
        "\n"
      ],
      "execution_count": null,
      "outputs": []
    },
    {
      "cell_type": "code",
      "metadata": {
        "colab": {
          "base_uri": "https://localhost:8080/"
        },
        "id": "vvMcdqdNYlII",
        "outputId": "ea93670e-ec06-43f8-cde0-331b7338b9b6"
      },
      "source": [
        "print('=======================================================')\n",
        "print('------------Percentage------------')\n",
        "data = readDataset()\n",
        "subscriptionPercent(data)\n",
        "print('=======================================================')\n",
        "print('------------Oversampling - SMOTE------------')\n",
        "# SVM\n",
        "data_final = numberVariable(data)\n",
        "X_train,y_train,X_test,y_test = createSmote(data_final)\n",
        "print(X_train.shap\n",
        "print(X_test.shape)\n",
        "print('======================e)=================================')\n",
        "print('------------SVM------------')\n",
        "start_time = time.time()\n",
        "model = svm.SVC(kernel='linear')\n",
        "model.fit(X_train, y_train.values.ravel())\n",
        "print('Độ chính xác: ',round(accuracy_score(y_test, model.predict(X_test)),2)*100,'%')\n",
        "print(\" Kết thúc: \",time.time()-start_time,\" seconds\")\n"
      ],
      "execution_count": null,
      "outputs": [
        {
          "output_type": "stream",
          "name": "stdout",
          "text": [
            "=======================================================\n",
            "------------Percentage------------\n",
            "tỉ lệ phần trăm khách hàng không đăng ký: 88.73 %\n",
            "tỉ lệ phần trăm khách hàng đăng ký: 11.27 %\n",
            "=======================================================\n",
            "------------Oversampling - SMOTE------------\n",
            "Số lượng tập train: 28831\n",
            "Số lượng tập test: 12357\n",
            "length Oversampling: 51134\n",
            "Số lượng khách hàng không đăng ký trong tập Oversampling: 25567\n",
            "Số lượng khách hàng đăng ký trong tập Oversampling: 25567\n",
            "Tỉ lệ khách hàng không đăng ký trong tập Oversampling: 0.5\n",
            "Tỉ lệ khách hàng đăng ký trong tập Oversampling: 0.5\n",
            "(51134, 63)\n",
            "(12357, 63)\n",
            "=======================================================\n",
            "------------SVM------------\n",
            "Độ chính xác:  90.0 %\n",
            " Kết thúc:  279.8825612068176  seconds\n"
          ]
        }
      ]
    },
    {
      "cell_type": "code",
      "metadata": {
        "colab": {
          "base_uri": "https://localhost:8080/"
        },
        "id": "N99avrOY7iLk",
        "outputId": "a20c8c1e-f310-41e0-e07a-0d5b09f8a20a"
      },
      "source": [
        "print('=======================================================')\n",
        "print('------------Percentage------------')\n",
        "data = readDataset()\n",
        "subscriptionPercent(data)\n",
        "print('=======================================================')\n",
        "print('------------Oversampling - SMOTE------------')\n",
        "# NB\n",
        "data_final = numberVariable(data)\n",
        "# Lấy tất cả biến bỏ biến phân loại y\n",
        "X = data_final.loc[:, data_final.columns != 'y']\n",
        "# Lấy biến phân loại y\n",
        "y = data_final.loc[:, data_final.columns == 'y']\n",
        "X_train, X_test, y_train, y_test = train_test_split(X, y, test_size=0.3, random_state=0)\n",
        "print(X_train.shape)\n",
        "print(X_test.shape)\n",
        "print('=======================================================')\n",
        "print('------------SVM------------')\n",
        "start_time = time.time()\n",
        "model = svm.SVC(kernel='linear')\n",
        "model.fit(X_train, y_train.values.ravel())\n",
        "print('Độ chính xác: ',round(accuracy_score(y_test, model.predict(X_test)),2)*100,'%')\n",
        "print(\" Kết thúc: \",time.time()-start_time,\" seconds\")\n"
      ],
      "execution_count": null,
      "outputs": [
        {
          "output_type": "stream",
          "name": "stdout",
          "text": [
            "=======================================================\n",
            "------------Percentage------------\n",
            "tỉ lệ phần trăm khách hàng không đăng ký: 88.73 %\n",
            "tỉ lệ phần trăm khách hàng đăng ký: 11.27 %\n",
            "=======================================================\n",
            "------------Oversampling - SMOTE------------\n",
            "(28831, 63)\n",
            "(12357, 63)\n",
            "=======================================================\n",
            "------------SVM------------\n",
            "Độ chính xác:  90.0 %\n",
            " Kết thúc:  112.4797830581665  seconds\n"
          ]
        }
      ]
    },
    {
      "cell_type": "code",
      "metadata": {
        "colab": {
          "base_uri": "https://localhost:8080/"
        },
        "id": "u0ko3S4vXt9P",
        "outputId": "d56de8b1-5fe5-4ca4-a290-9bb385ca0c25"
      },
      "source": [
        "data = readDataset()\n",
        "data_final = numberVariable(data)\n",
        "print(data_final)"
      ],
      "execution_count": null,
      "outputs": [
        {
          "output_type": "stream",
          "name": "stdout",
          "text": [
            "       age  duration  ...  poutcome_nonexistent  poutcome_success\n",
            "0       44       210  ...                     1                 0\n",
            "1       53       138  ...                     1                 0\n",
            "2       28       339  ...                     0                 1\n",
            "3       39       185  ...                     1                 0\n",
            "4       55       137  ...                     0                 1\n",
            "...    ...       ...  ...                   ...               ...\n",
            "41183   59       222  ...                     1                 0\n",
            "41184   31       196  ...                     1                 0\n",
            "41185   42        62  ...                     1                 0\n",
            "41186   48       200  ...                     1                 0\n",
            "41187   25       112  ...                     1                 0\n",
            "\n",
            "[41188 rows x 64 columns]\n"
          ]
        }
      ]
    }
  ]
}